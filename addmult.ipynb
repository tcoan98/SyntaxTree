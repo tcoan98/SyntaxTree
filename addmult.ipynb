{
 "cells": [
  {
   "cell_type": "markdown",
   "metadata": {},
   "source": [
    "# Syntax Trees\n",
    "\n",
    "From [Wikipedia](https://en.wikipedia.org/wiki/Abstract_syntax_tree): \n",
    "\n",
    "This file creates a syntax tree that provides addition, multiplication, constants, and variables for expression and evaluation given an environment.\n",
    "\n",
    "An expression is created using combinations of subclasses of the Expr class. An environment(dictionary) can be created in which variables are declared and assigned values.\n",
    "\n",
    "Sources: [Coding Trees in Python - Computerphile](https://www.youtube.com/watch?v=7tCNu4CnjVc),[Slopes of Machine Learning - Computerphile](https://www.youtube.com/watch?v=Jd55bul1VHo)\n",
    "\n",
    "TODO:\n",
    "- add multiplication/divison\n",
    "- add derivatives and partial derivatives"
   ]
  },
  {
   "cell_type": "code",
   "execution_count": 5,
   "metadata": {},
   "outputs": [],
   "source": [
    "class Expr:\n",
    "    pass"
   ]
  },
  {
   "cell_type": "code",
   "execution_count": 25,
   "metadata": {},
   "outputs": [],
   "source": [
    "#multiplication\n",
    "class Times (Expr):\n",
    "    \n",
    "    def __init__(self,left,right):\n",
    "        self.left = left\n",
    "        self.right = right\n",
    "        \n",
    "    def __str__(self):\n",
    "        return '('+str(self.left)+\"*\"+str(self.right)+')'\n",
    "    \n",
    "    def eval(self,env):\n",
    "        return self.left.eval(env) * self.right.eval(env)"
   ]
  },
  {
   "cell_type": "code",
   "execution_count": 26,
   "metadata": {},
   "outputs": [],
   "source": [
    "#addition\n",
    "class Plus (Expr):\n",
    "    \n",
    "    def __init__(self,left,right):\n",
    "        self.left = left\n",
    "        self.right = right\n",
    "        \n",
    "    def __str__(self):\n",
    "        return '('+str(self.left)+\"+\"+str(self.right)+')'\n",
    "    \n",
    "    def eval(self,env):\n",
    "        return self.left.eval(env) + self.right.eval(env)"
   ]
  },
  {
   "cell_type": "code",
   "execution_count": 27,
   "metadata": {},
   "outputs": [],
   "source": [
    "#constant\n",
    "class Const (Expr):\n",
    "    \n",
    "    def __init__(self,val):\n",
    "        self.val = val\n",
    "    \n",
    "    def __str__(self):\n",
    "        return str(self.val)\n",
    "    \n",
    "    def eval(self,env):\n",
    "        return self.val"
   ]
  },
  {
   "cell_type": "code",
   "execution_count": 28,
   "metadata": {},
   "outputs": [],
   "source": [
    "#variable\n",
    "class Var (Expr):\n",
    "    \n",
    "    def __init__(self,name):\n",
    "        self.name = name\n",
    "        \n",
    "    def __str__(self):\n",
    "        return self.name\n",
    "    \n",
    "    def eval(self,env):\n",
    "        return env[self.name]"
   ]
  },
  {
   "cell_type": "code",
   "execution_count": 29,
   "metadata": {},
   "outputs": [
    {
     "name": "stdout",
     "output_type": "stream",
     "text": [
      "3*y+x 3*y+x\n"
     ]
    }
   ],
   "source": [
    "# Example 3 * y + x\n",
    "e1 = Times(Const(3),Plus(Var('y'),Var('x')))\n",
    "e2 = Plus(Times(Const(3),Var('y')),Var('x'))\n",
    "print(e1,e2)"
   ]
  },
  {
   "cell_type": "code",
   "execution_count": 34,
   "metadata": {},
   "outputs": [
    {
     "data": {
      "text/plain": [
       "9"
      ]
     },
     "execution_count": 34,
     "metadata": {},
     "output_type": "execute_result"
    }
   ],
   "source": [
    "env = {'y':1,'x':2}\n",
    "e1.eval(env)"
   ]
  },
  {
   "cell_type": "code",
   "execution_count": null,
   "metadata": {},
   "outputs": [],
   "source": []
  }
 ],
 "metadata": {
  "kernelspec": {
   "display_name": "Python 3",
   "language": "python",
   "name": "python3"
  },
  "language_info": {
   "codemirror_mode": {
    "name": "ipython",
    "version": 3
   },
   "file_extension": ".py",
   "mimetype": "text/x-python",
   "name": "python",
   "nbconvert_exporter": "python",
   "pygments_lexer": "ipython3",
   "version": "3.7.6"
  }
 },
 "nbformat": 4,
 "nbformat_minor": 4
}
